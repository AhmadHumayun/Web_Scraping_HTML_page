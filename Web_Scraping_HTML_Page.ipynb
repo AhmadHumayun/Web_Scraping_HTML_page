{
  "nbformat": 4,
  "nbformat_minor": 0,
  "metadata": {
    "colab": {
      "name": "Web_Scraping_HTML_Page.ipynb",
      "provenance": [],
      "collapsed_sections": []
    },
    "kernelspec": {
      "name": "python3",
      "display_name": "Python 3"
    },
    "language_info": {
      "name": "python"
    }
  },
  "cells": [
    {
      "cell_type": "code",
      "execution_count": 1,
      "metadata": {
        "id": "qBiG6hX0z1hw"
      },
      "outputs": [],
      "source": [
        "import requests\n",
        "from bs4 import BeautifulSoup\n"
      ]
    },
    {
      "cell_type": "code",
      "source": [
        "url= 'https://www.anytimemailbox.com/'\n",
        "\n",
        "# Request\n",
        "r1 = requests.get(url)\n",
        "#Check response status if 200 then its ok\n",
        "r1.status_code\n",
        "\n",
        "# We'll save in coverpage the cover page content\n",
        "main_page = r1.content\n",
        "\n",
        "# Soup creation\n",
        "soup1 = BeautifulSoup(main_page, 'html5lib')\n",
        "soup1"
      ],
      "metadata": {
        "id": "J-CnjP0tz_Vi"
      },
      "execution_count": null,
      "outputs": []
    },
    {
      "cell_type": "code",
      "source": [
        "link_class=soup1.find_all('a',class_='btn theme-button')\n",
        "for links in link_class:\n",
        "    if links['href']=='/locations':\n",
        "        loc_link=links.get('href')\n",
        "        print(links.get('href'))\n",
        "        break\n",
        "location_link=url+loc_link\n",
        "print(location_link)"
      ],
      "metadata": {
        "colab": {
          "base_uri": "https://localhost:8080/"
        },
        "id": "N0y7Y-8t2uYs",
        "outputId": "cc7309f5-088c-4ef1-ab23-88620918de8b"
      },
      "execution_count": 14,
      "outputs": [
        {
          "output_type": "stream",
          "name": "stdout",
          "text": [
            "/locations\n",
            "https://www.anytimemailbox.com//locations\n"
          ]
        }
      ]
    },
    {
      "cell_type": "code",
      "source": [
        ""
      ],
      "metadata": {
        "id": "mIZEi1bR3eJl"
      },
      "execution_count": null,
      "outputs": []
    }
  ]
}
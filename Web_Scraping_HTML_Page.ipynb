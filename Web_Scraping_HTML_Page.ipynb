{
  "nbformat": 4,
  "nbformat_minor": 0,
  "metadata": {
    "colab": {
      "name": "Web_Scraping_HTML_Page.ipynb",
      "provenance": [],
      "collapsed_sections": []
    },
    "kernelspec": {
      "name": "python3",
      "display_name": "Python 3"
    },
    "language_info": {
      "name": "python"
    }
  },
  "cells": [
    {
      "cell_type": "code",
      "execution_count": 1,
      "metadata": {
        "id": "qBiG6hX0z1hw"
      },
      "outputs": [],
      "source": [
        "import requests\n",
        "from bs4 import BeautifulSoup\n"
      ]
    },
    {
      "cell_type": "code",
      "source": [
        "url= 'https://www.anytimemailbox.com/'\n",
        "\n",
        "# Request\n",
        "r1 = requests.get(url)\n",
        "#Check response status if 200 then its ok\n",
        "r1.status_code\n",
        "\n",
        "# We'll save in coverpage the cover page content\n",
        "main_page = r1.content\n",
        "\n",
        "# Soup creation\n",
        "soup1 = BeautifulSoup(main_page, 'html5lib')\n",
        "soup1"
      ],
      "metadata": {
        "id": "J-CnjP0tz_Vi"
      },
      "execution_count": null,
      "outputs": []
    },
    {
      "cell_type": "code",
      "source": [
        "link_class=soup1.find_all('a',class_='btn theme-button')\n",
        "for links in link_class:\n",
        "    if links['href']=='/locations':\n",
        "        loc_link=links.get('href')\n",
        "        print(links.get('href'))\n",
        "        break\n",
        "location_link=url+loc_link\n",
        "print(location_link)"
      ],
      "metadata": {
        "colab": {
          "base_uri": "https://localhost:8080/"
        },
        "id": "N0y7Y-8t2uYs",
        "outputId": "cc7309f5-088c-4ef1-ab23-88620918de8b"
      },
      "execution_count": 14,
      "outputs": [
        {
          "output_type": "stream",
          "name": "stdout",
          "text": [
            "/locations\n",
            "https://www.anytimemailbox.com//locations\n"
          ]
        }
      ]
    },
    {
      "cell_type": "code",
      "source": [
        "from tqdm import tqdm\n",
        "import os"
      ],
      "metadata": {
        "id": "JQdIVSyhAsNg"
      },
      "execution_count": 20,
      "outputs": []
    },
    {
      "cell_type": "code",
      "source": [
        "country=[]\n",
        "state=[]\n",
        "title=[]\n",
        "address=[]\n",
        "price=[]"
      ],
      "metadata": {
        "id": "2KPjdBirB5FA"
      },
      "execution_count": 23,
      "outputs": []
    },
    {
      "cell_type": "code",
      "source": [
        "#get locations\n",
        "r2 = requests.get(location_link)\n",
        "r2.status_code\n",
        "\n",
        "# We'll save in coverpage the cover page content\n",
        "location_page = r2.content\n",
        "\n",
        "# Soup creation\n",
        "soup2 = BeautifulSoup(location_page, 'html5lib')\n",
        "\n",
        "# Search countries\n",
        "country_url = soup2.find_all('div', class_=\"row theme-top-gap\")\n",
        "count=0\n",
        "for countr in tqdm(country_url):\n",
        "    # Search country URL\n",
        "    tmp=(countr.find('a')['href'])\n",
        "    country_name=os.path.basename(tmp)\n",
        "    country_url_full=url+tmp[1:]\n",
        "    #get country page\n",
        "    r3 = requests.get(country_url_full)\n",
        "    r3.status_code\n",
        "\n",
        "    # country page content\n",
        "    country_wise = r3.content\n",
        "\n",
        "    # Soup creation\n",
        "    soup3 = BeautifulSoup(country_wise, 'html5lib')\n",
        "    # find cites\n",
        "    checking_cities = soup3.find_all('a', class_=\"theme-subtle-link\")\n",
        "    for stat in checking_cities:\n",
        "\n",
        "        state_name=os.path.basename(stat.get('href'))\n",
        "        #city URL\n",
        "        stat_loc=country_url_full+'/'+state_name\n",
        "        #GET city locations\n",
        "        r4 = requests.get(stat_loc)\n",
        "        r4.status_code\n",
        "        # city location content\n",
        "        coverpage = r4.content\n",
        "        soup4 = BeautifulSoup(coverpage, 'html5lib')\n",
        "        #locations details\n",
        "        adrr_loc = soup4.find_all('div', class_=\"theme-location-item\")\n",
        "        for event in adrr_loc:\n",
        "            # country data\n",
        "            country.append(country_name)\n",
        "            # city data\n",
        "            state.append(state_name)\n",
        "            #Address Title data\n",
        "            title_address=event.find('h3')\n",
        "            title.append(title_address.text)\n",
        "            #Price data\n",
        "            price_list=event.find('div',class_='t-price')\n",
        "            price_list=price_list.text.splitlines()[3].replace('\\t','')\n",
        "            price.append(price_list)\n",
        "            ## Full Address\n",
        "            addres_list=event.find('div',class_='t-addr').get_text(separator=\" \").strip()\n",
        "            address.append(addres_list)\n"
      ],
      "metadata": {
        "colab": {
          "base_uri": "https://localhost:8080/"
        },
        "id": "mIZEi1bR3eJl",
        "outputId": "cddf118f-f709-4bf2-e31a-8b498c1a2e65"
      },
      "execution_count": 24,
      "outputs": [
        {
          "output_type": "stream",
          "name": "stderr",
          "text": [
            "100%|██████████| 42/42 [01:14<00:00,  1.78s/it]\n"
          ]
        }
      ]
    },
    {
      "cell_type": "code",
      "source": [
        "import pandas as pd"
      ],
      "metadata": {
        "id": "G7nyJS8mC0uZ"
      },
      "execution_count": 25,
      "outputs": []
    },
    {
      "cell_type": "code",
      "source": [
        "data = pd.DataFrame(\n",
        "          {'Country':country,\n",
        "            'State':state,\n",
        "            'Address Title': title,\n",
        "           'Address':address, \n",
        "           'Price':price,\n",
        "        })"
      ],
      "metadata": {
        "id": "uj5Jh6L5CF4y"
      },
      "execution_count": 26,
      "outputs": []
    },
    {
      "cell_type": "code",
      "source": [
        "data"
      ],
      "metadata": {
        "colab": {
          "base_uri": "https://localhost:8080/",
          "height": 424
        },
        "id": "OvSDX7e8C22y",
        "outputId": "6b5beb2c-2a84-46bf-ebd2-fc10d30fe339"
      },
      "execution_count": 27,
      "outputs": [
        {
          "output_type": "execute_result",
          "data": {
            "text/plain": [
              "             Country             State             Address Title  \\\n",
              "0                usa           alabama      Birmingham - 19th St   \n",
              "1                usa           alabama  Birmingham - Gadsden Hwy   \n",
              "2                usa           alabama                   Chelsea   \n",
              "3                usa           alabama                Enterprise   \n",
              "4                usa           alabama        Mobile - Grelot Rd   \n",
              "...              ...               ...                       ...   \n",
              "1339  united-kingdom            london     London - Ludgate Hill   \n",
              "1340  united-kingdom            london     London - New North Rd   \n",
              "1341  united-kingdom            london        London - Regent St   \n",
              "1342  united-kingdom         hampshire               Southampton   \n",
              "1343  united-kingdom  northern-ireland                     Newry   \n",
              "\n",
              "                                                Address              Price  \n",
              "0            120 19th Street North Birmingham, AL 35203  US$ 39.00 / month  \n",
              "1             1430 Gadsden Highway Birmingham, AL 35235   US$ 9.99 / month  \n",
              "2                  60 Chelsea Corners Chelsea, AL 35043   US$ 9.99 / month  \n",
              "3                 2801 Rucker Blvd Enterprise, AL 36330   US$ 9.99 / month  \n",
              "4                     6300 Grelot Road Mobile, AL 36609   US$ 9.99 / month  \n",
              "...                                                 ...                ...  \n",
              "1339     39 Ludgate Hill London EC4M 7JN United Kingdom      £5.99 / month  \n",
              "1340    275 New North Road London N1 7AA United Kingdom      £9.99 / month  \n",
              "1341  59, St. Martin's Lane London WC2N 4JS United K...     £17.99 / month  \n",
              "1342  Millview Barn Southampton SO31 8GD United Kingdom     £10.00 / month  \n",
              "1343        6 Margaret St Newry BT34 1DF United Kingdom      £6.99 / month  \n",
              "\n",
              "[1344 rows x 5 columns]"
            ],
            "text/html": [
              "\n",
              "  <div id=\"df-7db344a0-a444-4383-b234-6f5385054f71\">\n",
              "    <div class=\"colab-df-container\">\n",
              "      <div>\n",
              "<style scoped>\n",
              "    .dataframe tbody tr th:only-of-type {\n",
              "        vertical-align: middle;\n",
              "    }\n",
              "\n",
              "    .dataframe tbody tr th {\n",
              "        vertical-align: top;\n",
              "    }\n",
              "\n",
              "    .dataframe thead th {\n",
              "        text-align: right;\n",
              "    }\n",
              "</style>\n",
              "<table border=\"1\" class=\"dataframe\">\n",
              "  <thead>\n",
              "    <tr style=\"text-align: right;\">\n",
              "      <th></th>\n",
              "      <th>Country</th>\n",
              "      <th>State</th>\n",
              "      <th>Address Title</th>\n",
              "      <th>Address</th>\n",
              "      <th>Price</th>\n",
              "    </tr>\n",
              "  </thead>\n",
              "  <tbody>\n",
              "    <tr>\n",
              "      <th>0</th>\n",
              "      <td>usa</td>\n",
              "      <td>alabama</td>\n",
              "      <td>Birmingham - 19th St</td>\n",
              "      <td>120 19th Street North Birmingham, AL 35203</td>\n",
              "      <td>US$ 39.00 / month</td>\n",
              "    </tr>\n",
              "    <tr>\n",
              "      <th>1</th>\n",
              "      <td>usa</td>\n",
              "      <td>alabama</td>\n",
              "      <td>Birmingham - Gadsden Hwy</td>\n",
              "      <td>1430 Gadsden Highway Birmingham, AL 35235</td>\n",
              "      <td>US$ 9.99 / month</td>\n",
              "    </tr>\n",
              "    <tr>\n",
              "      <th>2</th>\n",
              "      <td>usa</td>\n",
              "      <td>alabama</td>\n",
              "      <td>Chelsea</td>\n",
              "      <td>60 Chelsea Corners Chelsea, AL 35043</td>\n",
              "      <td>US$ 9.99 / month</td>\n",
              "    </tr>\n",
              "    <tr>\n",
              "      <th>3</th>\n",
              "      <td>usa</td>\n",
              "      <td>alabama</td>\n",
              "      <td>Enterprise</td>\n",
              "      <td>2801 Rucker Blvd Enterprise, AL 36330</td>\n",
              "      <td>US$ 9.99 / month</td>\n",
              "    </tr>\n",
              "    <tr>\n",
              "      <th>4</th>\n",
              "      <td>usa</td>\n",
              "      <td>alabama</td>\n",
              "      <td>Mobile - Grelot Rd</td>\n",
              "      <td>6300 Grelot Road Mobile, AL 36609</td>\n",
              "      <td>US$ 9.99 / month</td>\n",
              "    </tr>\n",
              "    <tr>\n",
              "      <th>...</th>\n",
              "      <td>...</td>\n",
              "      <td>...</td>\n",
              "      <td>...</td>\n",
              "      <td>...</td>\n",
              "      <td>...</td>\n",
              "    </tr>\n",
              "    <tr>\n",
              "      <th>1339</th>\n",
              "      <td>united-kingdom</td>\n",
              "      <td>london</td>\n",
              "      <td>London - Ludgate Hill</td>\n",
              "      <td>39 Ludgate Hill London EC4M 7JN United Kingdom</td>\n",
              "      <td>£5.99 / month</td>\n",
              "    </tr>\n",
              "    <tr>\n",
              "      <th>1340</th>\n",
              "      <td>united-kingdom</td>\n",
              "      <td>london</td>\n",
              "      <td>London - New North Rd</td>\n",
              "      <td>275 New North Road London N1 7AA United Kingdom</td>\n",
              "      <td>£9.99 / month</td>\n",
              "    </tr>\n",
              "    <tr>\n",
              "      <th>1341</th>\n",
              "      <td>united-kingdom</td>\n",
              "      <td>london</td>\n",
              "      <td>London - Regent St</td>\n",
              "      <td>59, St. Martin's Lane London WC2N 4JS United K...</td>\n",
              "      <td>£17.99 / month</td>\n",
              "    </tr>\n",
              "    <tr>\n",
              "      <th>1342</th>\n",
              "      <td>united-kingdom</td>\n",
              "      <td>hampshire</td>\n",
              "      <td>Southampton</td>\n",
              "      <td>Millview Barn Southampton SO31 8GD United Kingdom</td>\n",
              "      <td>£10.00 / month</td>\n",
              "    </tr>\n",
              "    <tr>\n",
              "      <th>1343</th>\n",
              "      <td>united-kingdom</td>\n",
              "      <td>northern-ireland</td>\n",
              "      <td>Newry</td>\n",
              "      <td>6 Margaret St Newry BT34 1DF United Kingdom</td>\n",
              "      <td>£6.99 / month</td>\n",
              "    </tr>\n",
              "  </tbody>\n",
              "</table>\n",
              "<p>1344 rows × 5 columns</p>\n",
              "</div>\n",
              "      <button class=\"colab-df-convert\" onclick=\"convertToInteractive('df-7db344a0-a444-4383-b234-6f5385054f71')\"\n",
              "              title=\"Convert this dataframe to an interactive table.\"\n",
              "              style=\"display:none;\">\n",
              "        \n",
              "  <svg xmlns=\"http://www.w3.org/2000/svg\" height=\"24px\"viewBox=\"0 0 24 24\"\n",
              "       width=\"24px\">\n",
              "    <path d=\"M0 0h24v24H0V0z\" fill=\"none\"/>\n",
              "    <path d=\"M18.56 5.44l.94 2.06.94-2.06 2.06-.94-2.06-.94-.94-2.06-.94 2.06-2.06.94zm-11 1L8.5 8.5l.94-2.06 2.06-.94-2.06-.94L8.5 2.5l-.94 2.06-2.06.94zm10 10l.94 2.06.94-2.06 2.06-.94-2.06-.94-.94-2.06-.94 2.06-2.06.94z\"/><path d=\"M17.41 7.96l-1.37-1.37c-.4-.4-.92-.59-1.43-.59-.52 0-1.04.2-1.43.59L10.3 9.45l-7.72 7.72c-.78.78-.78 2.05 0 2.83L4 21.41c.39.39.9.59 1.41.59.51 0 1.02-.2 1.41-.59l7.78-7.78 2.81-2.81c.8-.78.8-2.07 0-2.86zM5.41 20L4 18.59l7.72-7.72 1.47 1.35L5.41 20z\"/>\n",
              "  </svg>\n",
              "      </button>\n",
              "      \n",
              "  <style>\n",
              "    .colab-df-container {\n",
              "      display:flex;\n",
              "      flex-wrap:wrap;\n",
              "      gap: 12px;\n",
              "    }\n",
              "\n",
              "    .colab-df-convert {\n",
              "      background-color: #E8F0FE;\n",
              "      border: none;\n",
              "      border-radius: 50%;\n",
              "      cursor: pointer;\n",
              "      display: none;\n",
              "      fill: #1967D2;\n",
              "      height: 32px;\n",
              "      padding: 0 0 0 0;\n",
              "      width: 32px;\n",
              "    }\n",
              "\n",
              "    .colab-df-convert:hover {\n",
              "      background-color: #E2EBFA;\n",
              "      box-shadow: 0px 1px 2px rgba(60, 64, 67, 0.3), 0px 1px 3px 1px rgba(60, 64, 67, 0.15);\n",
              "      fill: #174EA6;\n",
              "    }\n",
              "\n",
              "    [theme=dark] .colab-df-convert {\n",
              "      background-color: #3B4455;\n",
              "      fill: #D2E3FC;\n",
              "    }\n",
              "\n",
              "    [theme=dark] .colab-df-convert:hover {\n",
              "      background-color: #434B5C;\n",
              "      box-shadow: 0px 1px 3px 1px rgba(0, 0, 0, 0.15);\n",
              "      filter: drop-shadow(0px 1px 2px rgba(0, 0, 0, 0.3));\n",
              "      fill: #FFFFFF;\n",
              "    }\n",
              "  </style>\n",
              "\n",
              "      <script>\n",
              "        const buttonEl =\n",
              "          document.querySelector('#df-7db344a0-a444-4383-b234-6f5385054f71 button.colab-df-convert');\n",
              "        buttonEl.style.display =\n",
              "          google.colab.kernel.accessAllowed ? 'block' : 'none';\n",
              "\n",
              "        async function convertToInteractive(key) {\n",
              "          const element = document.querySelector('#df-7db344a0-a444-4383-b234-6f5385054f71');\n",
              "          const dataTable =\n",
              "            await google.colab.kernel.invokeFunction('convertToInteractive',\n",
              "                                                     [key], {});\n",
              "          if (!dataTable) return;\n",
              "\n",
              "          const docLinkHtml = 'Like what you see? Visit the ' +\n",
              "            '<a target=\"_blank\" href=https://colab.research.google.com/notebooks/data_table.ipynb>data table notebook</a>'\n",
              "            + ' to learn more about interactive tables.';\n",
              "          element.innerHTML = '';\n",
              "          dataTable['output_type'] = 'display_data';\n",
              "          await google.colab.output.renderOutput(dataTable, element);\n",
              "          const docLink = document.createElement('div');\n",
              "          docLink.innerHTML = docLinkHtml;\n",
              "          element.appendChild(docLink);\n",
              "        }\n",
              "      </script>\n",
              "    </div>\n",
              "  </div>\n",
              "  "
            ]
          },
          "metadata": {},
          "execution_count": 27
        }
      ]
    },
    {
      "cell_type": "code",
      "source": [
        ""
      ],
      "metadata": {
        "id": "1AHhbeQZC3vs"
      },
      "execution_count": null,
      "outputs": []
    }
  ]
}